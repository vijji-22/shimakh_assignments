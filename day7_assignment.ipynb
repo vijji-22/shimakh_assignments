{
  "nbformat": 4,
  "nbformat_minor": 0,
  "metadata": {
    "colab": {
      "provenance": []
    },
    "kernelspec": {
      "name": "python3",
      "display_name": "Python 3"
    },
    "language_info": {
      "name": "python"
    }
  },
  "cells": [
    {
      "cell_type": "code",
      "execution_count": 23,
      "metadata": {
        "colab": {
          "base_uri": "https://localhost:8080/"
        },
        "id": "a1L73EOFaFkU",
        "outputId": "f6e50343-2381-4032-ddd2-ef2b0444ba57"
      },
      "outputs": [
        {
          "output_type": "stream",
          "name": "stdout",
          "text": [
            "{1: 2, 3: 4}\n",
            "<class 'dict'>\n"
          ]
        }
      ],
      "source": [
        "list=[(1,2),(3,4)]\n",
        "a=dict(list)\n",
        "print(a)\n",
        "print(type(a))"
      ]
    },
    {
      "cell_type": "code",
      "source": [
        "list= [\"vijji\",\"sukku\",\"rajesh\",\"saigopi\"]\n",
        "b=enumerate(list)\n",
        "dict(b)\n",
        "print(b)\n",
        "for i in enumerate(list):\n",
        "  print(i)"
      ],
      "metadata": {
        "colab": {
          "base_uri": "https://localhost:8080/"
        },
        "id": "cYo7VQAA3iph",
        "outputId": "e10bd181-5126-4448-9e99-23f7c13c7b77"
      },
      "execution_count": 28,
      "outputs": [
        {
          "output_type": "stream",
          "name": "stdout",
          "text": [
            "<enumerate object at 0x7c3a0a2ace40>\n",
            "(0, 'vijji')\n",
            "(1, 'sukku')\n",
            "(2, 'rajesh')\n",
            "(3, 'saigopi')\n"
          ]
        }
      ]
    },
    {
      "cell_type": "code",
      "source": [],
      "metadata": {
        "id": "eL_32ZXC4DMW"
      },
      "execution_count": null,
      "outputs": []
    },
    {
      "cell_type": "code",
      "source": [],
      "metadata": {
        "id": "5t2EOFuE4DQn"
      },
      "execution_count": null,
      "outputs": []
    },
    {
      "cell_type": "code",
      "source": [],
      "metadata": {
        "id": "q9la_wBl4DT6"
      },
      "execution_count": null,
      "outputs": []
    }
  ]
}